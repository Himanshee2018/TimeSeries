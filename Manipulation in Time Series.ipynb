{
 "cells": [
  {
   "cell_type": "markdown",
   "metadata": {},
   "source": [
    "## Steps In Modelling and Time Series data\n",
    "#### 1.  Plot Data\n",
    "#### 2.  Transformations(to stabalize variance) eg log, root\n",
    "#### 3.  Check for stationarity (If the test statistic is greater than the critical value, we reject the null hypothesis (series is not stationary).\n",
    "####  If the test statistic is less than the critical value, if fail to reject the null hypothesis (series is stationary).), If not present , make it stationary by differencing or detrending\n",
    "#### 4. Examine ACF/PACF for finding order of AR (p)and MA (q)terms\n",
    "#### 5. Find out order of ARIMA ( I is order of differencing, I=0 for stationary series )\n",
    "#### 6. Optimize model - fit the model\n",
    "#### 7. Check for residuals(white Noise) - If residuals have pattern or if residuals are not random, it is sure there is more information in residuals which needs to be captured so we use some other ARIMA model till residuals do not show patterns\n",
    "#### 8. FORECAST"
   ]
  },
  {
   "cell_type": "markdown",
   "metadata": {},
   "source": [
    "## This  file includes following Datacamp chapters:\n",
    "\n",
    "### 1. Manipulating Time Series in Python"
   ]
  },
  {
   "cell_type": "code",
   "execution_count": 52,
   "metadata": {},
   "outputs": [],
   "source": [
    "from datetime import datetime\n",
    "import pandas as pd\n",
    "import numpy as np"
   ]
  },
  {
   "cell_type": "code",
   "execution_count": 56,
   "metadata": {},
   "outputs": [
    {
     "data": {
      "text/plain": [
       "DatetimeIndex(['2019-09-01', '2019-09-02', '2019-09-03', '2019-09-04',\n",
       "               '2019-09-05', '2019-09-06', '2019-09-07', '2019-09-08',\n",
       "               '2019-09-09', '2019-09-10',\n",
       "               ...\n",
       "               '2020-08-21', '2020-08-22', '2020-08-23', '2020-08-24',\n",
       "               '2020-08-25', '2020-08-26', '2020-08-27', '2020-08-28',\n",
       "               '2020-08-29', '2020-08-30'],\n",
       "              dtype='datetime64[ns]', length=365, freq='D')"
      ]
     },
     "execution_count": 56,
     "metadata": {},
     "output_type": "execute_result"
    }
   ],
   "source": [
    "# date Range(start, end, periods, freq/offset)\n",
    "days = pd.date_range(start ='2019-09-01',periods=365)\n",
    "days"
   ]
  },
  {
   "cell_type": "code",
   "execution_count": 57,
   "metadata": {},
   "outputs": [
    {
     "data": {
      "text/plain": [
       "Timestamp('2017-01-01 00:00:00')"
      ]
     },
     "execution_count": 57,
     "metadata": {},
     "output_type": "execute_result"
    }
   ],
   "source": [
    "## Creating timestamp format from datetime in pandas\n",
    "## Pandas Timestamp or Timestamp Object(here ts) has many attributes such as year, weekday_name(day_name)\n",
    "\n",
    "ts= pd.Timestamp(datetime(2017,1,1))\n",
    "ts"
   ]
  },
  {
   "cell_type": "code",
   "execution_count": 58,
   "metadata": {},
   "outputs": [],
   "source": [
    "## Error: Module object is not callable --- Import is not done properly."
   ]
  },
  {
   "cell_type": "code",
   "execution_count": 59,
   "metadata": {},
   "outputs": [
    {
     "name": "stdout",
     "output_type": "stream",
     "text": [
      "2017\n",
      "1\n",
      "Sunday\n"
     ]
    },
    {
     "name": "stderr",
     "output_type": "stream",
     "text": [
      "/anaconda3/lib/python3.6/site-packages/ipykernel_launcher.py:8: FutureWarning: `weekday_name` is deprecated and will be removed in a future version. Use `day_name` instead\n",
      "  \n"
     ]
    }
   ],
   "source": [
    "# Year from date\n",
    "print(ts.year)\n",
    "\n",
    "# Month from Date\n",
    "print(ts.month)\n",
    "\n",
    "# Weekday name from date\n",
    "print(ts.weekday_name)"
   ]
  },
  {
   "cell_type": "code",
   "execution_count": 63,
   "metadata": {},
   "outputs": [
    {
     "data": {
      "text/plain": [
       "Timestamp('2017-02-28 00:00:00', freq='M')"
      ]
     },
     "execution_count": 63,
     "metadata": {},
     "output_type": "execute_result"
    }
   ],
   "source": [
    "# Timetsamp needs a frequency attribute to do arithmetic calculations\n",
    "pd.Timestamp('2017-01-31',freq ='M')+1"
   ]
  },
  {
   "cell_type": "code",
   "execution_count": 61,
   "metadata": {},
   "outputs": [
    {
     "name": "stderr",
     "output_type": "stream",
     "text": [
      "/anaconda3/lib/python3.6/site-packages/ipykernel_launcher.py:1: FutureWarning: `weekday_name` is deprecated and will be removed in a future version. Use `day_name` instead\n",
      "  \"\"\"Entry point for launching an IPython kernel.\n"
     ]
    },
    {
     "data": {
      "text/plain": [
       "'Sunday'"
      ]
     },
     "execution_count": 61,
     "metadata": {},
     "output_type": "execute_result"
    }
   ],
   "source": [
    "ts.weekday_name"
   ]
  },
  {
   "cell_type": "code",
   "execution_count": 8,
   "metadata": {},
   "outputs": [
    {
     "data": {
      "text/plain": [
       "Period('2017-01', 'M')"
      ]
     },
     "execution_count": 8,
     "metadata": {},
     "output_type": "execute_result"
    }
   ],
   "source": [
    "## Pandas Period(for time period)has attribute as frequency(default is monthly) and Method as \"asfreq()\" \n",
    "## to convert between different frequencies\n",
    "## showing the frequency\n",
    "pr = pd.Period('2017-01')\n",
    "pr"
   ]
  },
  {
   "cell_type": "code",
   "execution_count": 9,
   "metadata": {},
   "outputs": [
    {
     "data": {
      "text/plain": [
       "Period('2017-01-31', 'D')"
      ]
     },
     "execution_count": 9,
     "metadata": {},
     "output_type": "execute_result"
    }
   ],
   "source": [
    "pr.asfreq('D')"
   ]
  },
  {
   "cell_type": "code",
   "execution_count": 27,
   "metadata": {},
   "outputs": [
    {
     "data": {
      "text/plain": [
       "Timestamp('2017-01-01 00:00:00')"
      ]
     },
     "execution_count": 27,
     "metadata": {},
     "output_type": "execute_result"
    }
   ],
   "source": [
    "# converting a period to timestamp object and then back toperiod\n",
    "pr.to_timestamp()"
   ]
  },
  {
   "cell_type": "code",
   "execution_count": 29,
   "metadata": {},
   "outputs": [
    {
     "data": {
      "text/plain": [
       "Period('2017-01', 'M')"
      ]
     },
     "execution_count": 29,
     "metadata": {},
     "output_type": "execute_result"
    }
   ],
   "source": [
    "# converting a period to timestamp object and then back toperiod\n",
    "pr.to_timestamp().to_period('M')"
   ]
  },
  {
   "cell_type": "code",
   "execution_count": 33,
   "metadata": {},
   "outputs": [
    {
     "data": {
      "text/plain": [
       "Period('2018-02', 'M')"
      ]
     },
     "execution_count": 33,
     "metadata": {},
     "output_type": "execute_result"
    }
   ],
   "source": [
    "# We can do arithmentic with Period Objects , adds 13 months woth 13\n",
    "pr+13"
   ]
  },
  {
   "cell_type": "markdown",
   "metadata": {},
   "source": [
    "#arithmetic addition to periods or timestamp , both works, with timstamp, mention frequency also"
   ]
  },
  {
   "cell_type": "code",
   "execution_count": 32,
   "metadata": {},
   "outputs": [],
   "source": [
    "# Throws error : ts+2"
   ]
  },
  {
   "cell_type": "markdown",
   "metadata": {},
   "source": [
    "## To create time series , you need series of dates , To create sequence of timestamps, you need pandas function date_range(). \n",
    "\n",
    "1.To have a daterange, specify start_date, end date or no of periods. Default is daily frequency"
   ]
  },
  {
   "cell_type": "code",
   "execution_count": 42,
   "metadata": {},
   "outputs": [
    {
     "name": "stdout",
     "output_type": "stream",
     "text": [
      "DatetimeIndex(['2017-01-31', '2017-02-28', '2017-03-31', '2017-04-30',\n",
      "               '2017-05-31', '2017-06-30', '2017-07-31', '2017-08-31',\n",
      "               '2017-09-30', '2017-10-31', '2017-11-30', '2017-12-31'],\n",
      "              dtype='datetime64[ns]', freq='M')\n"
     ]
    }
   ],
   "source": [
    "index = pd.date_range(start='2017-01', freq='M', periods=12)\n",
    "print(index)"
   ]
  },
  {
   "cell_type": "code",
   "execution_count": 43,
   "metadata": {},
   "outputs": [],
   "source": [
    "#pd.DateTimeIndex # sequence of datetime objects with frequency info"
   ]
  },
  {
   "cell_type": "code",
   "execution_count": 44,
   "metadata": {},
   "outputs": [
    {
     "data": {
      "text/plain": [
       "Timestamp('2017-01-31 00:00:00', freq='M')"
      ]
     },
     "execution_count": 44,
     "metadata": {},
     "output_type": "execute_result"
    }
   ],
   "source": [
    "index[0]"
   ]
  },
  {
   "cell_type": "code",
   "execution_count": 45,
   "metadata": {},
   "outputs": [
    {
     "data": {
      "text/plain": [
       "PeriodIndex(['2017-01', '2017-02', '2017-03', '2017-04', '2017-05', '2017-06',\n",
       "             '2017-07', '2017-08', '2017-09', '2017-10', '2017-11', '2017-12'],\n",
       "            dtype='period[M]', freq='M')"
      ]
     },
     "execution_count": 45,
     "metadata": {},
     "output_type": "execute_result"
    }
   ],
   "source": [
    "index.to_period()   # since default is by month"
   ]
  },
  {
   "cell_type": "code",
   "execution_count": 46,
   "metadata": {},
   "outputs": [
    {
     "data": {
      "text/plain": [
       "PeriodIndex(['2017-01-31', '2017-02-28', '2017-03-31', '2017-04-30',\n",
       "             '2017-05-31', '2017-06-30', '2017-07-31', '2017-08-31',\n",
       "             '2017-09-30', '2017-10-31', '2017-11-30', '2017-12-31'],\n",
       "            dtype='period[D]', freq='D')"
      ]
     },
     "execution_count": 46,
     "metadata": {},
     "output_type": "execute_result"
    }
   ],
   "source": [
    "# Coverting timestamp index dataframe to Period Index dataframe, frequency to Days\n",
    "index.to_period('D')"
   ]
  },
  {
   "cell_type": "code",
   "execution_count": 64,
   "metadata": {},
   "outputs": [
    {
     "name": "stdout",
     "output_type": "stream",
     "text": [
      "<class 'pandas.core.frame.DataFrame'>\n",
      "RangeIndex: 12 entries, 0 to 11\n",
      "Data columns (total 1 columns):\n",
      "0    12 non-null datetime64[ns]\n",
      "dtypes: datetime64[ns](1)\n",
      "memory usage: 176.0 bytes\n"
     ]
    }
   ],
   "source": [
    "#  Creating time series by Setting datatime column or data to index\n",
    "pd.DataFrame(data =index).info()"
   ]
  },
  {
   "cell_type": "code",
   "execution_count": 48,
   "metadata": {},
   "outputs": [
    {
     "data": {
      "text/plain": [
       "array([[0.46227941, 0.63989572],\n",
       "       [0.86541927, 0.14744674],\n",
       "       [0.73583689, 0.56087859],\n",
       "       [0.80100504, 0.31645815],\n",
       "       [0.37396048, 0.29781547],\n",
       "       [0.29196991, 0.62116173],\n",
       "       [0.76286507, 0.23538689],\n",
       "       [0.52067078, 0.61940583],\n",
       "       [0.51120586, 0.79851254],\n",
       "       [0.6319964 , 0.85000165],\n",
       "       [0.58953092, 0.34972368],\n",
       "       [0.01735215, 0.08313559]])"
      ]
     },
     "execution_count": 48,
     "metadata": {},
     "output_type": "execute_result"
    }
   ],
   "source": [
    "#. Create random data for 12 rows , 2 columns between [0,1]\n",
    "data = np.random.random((12,2))\n",
    "data"
   ]
  },
  {
   "cell_type": "code",
   "execution_count": 49,
   "metadata": {},
   "outputs": [
    {
     "name": "stdout",
     "output_type": "stream",
     "text": [
      "<class 'pandas.core.frame.DataFrame'>\n",
      "DatetimeIndex: 12 entries, 2017-01-31 to 2017-12-31\n",
      "Freq: M\n",
      "Data columns (total 2 columns):\n",
      "0    12 non-null float64\n",
      "1    12 non-null float64\n",
      "dtypes: float64(2)\n",
      "memory usage: 288.0 bytes\n"
     ]
    }
   ],
   "source": [
    "#. Creating dataframe with index as dates and randomdata as data\n",
    "pd.DataFrame(data=data, index = index).info()"
   ]
  },
  {
   "cell_type": "markdown",
   "metadata": {},
   "source": [
    "### Time Series Transformations\n",
    "\n",
    "1.Pandas datatype for time series is datetime64. So we always need to parse dates as they are in string datatype using to_datetime()\n",
    "2.Selecting and Slicing Periods\n",
    "3.Setting and Changing DateTimeIndex frequencies - upsampling or downsampling requires aggreagtion of data as sampling is decreased\n"
   ]
  },
  {
   "cell_type": "code",
   "execution_count": null,
   "metadata": {},
   "outputs": [],
   "source": [
    "df = pd.read_csv('google.csv')\n",
    "df.info()"
   ]
  },
  {
   "cell_type": "code",
   "execution_count": null,
   "metadata": {},
   "outputs": [],
   "source": [
    "# reas csv function can also parse dates for you\n",
    "df = pd.read_csv('google.csv', parse_dates= ['date'], index_col = 'date')\n",
    "df.info()\n",
    "\n",
    "#OR\n",
    "# 1. First Convert the string date column to datetime64 datatype of pandas\n",
    "df.date = pd.to_datetime(google.date)\n"
   ]
  },
  {
   "cell_type": "code",
   "execution_count": null,
   "metadata": {},
   "outputs": [],
   "source": []
  },
  {
   "cell_type": "code",
   "execution_count": null,
   "metadata": {},
   "outputs": [],
   "source": [
    "# 2. setting date column as index and without creating copy using inplace\n",
    "df.set_index('date',inplace= True)\n"
   ]
  },
  {
   "cell_type": "code",
   "execution_count": null,
   "metadata": {},
   "outputs": [],
   "source": [
    "# Selecting/Indexing using strings that parse to dates///// Partial string indexing\n",
    "df['2015'].info()\n",
    "\n",
    "#Slicing includes end date inclusive unlike other pandas functions\n",
    "df['2015-01': '2016-02'].info()\n",
    "\n",
    "\n",
    "#Use full date with loc\n",
    " df.loc('2015-01-01', 'price')"
   ]
  },
  {
   "cell_type": "code",
   "execution_count": null,
   "metadata": {},
   "outputs": [],
   "source": [
    "df.asfreq('D') # this creates many nan values, upsampling- higher frequency implies new dates ==> missing data"
   ]
  },
  {
   "cell_type": "markdown",
   "metadata": {},
   "source": [
    "## Time Series Methods\n",
    "1. shift\n",
    ".div\n",
    ".sub\n",
    ".pct_change() .mul(100)"
   ]
  },
  {
   "cell_type": "code",
   "execution_count": null,
   "metadata": {},
   "outputs": [],
   "source": [
    "# shifts in future\n",
    "google['shifted']= google.price.shift()\n",
    "\n",
    "# shifts back\n",
    "google['lagged']= google.price.shift(periods = -1)\n",
    "\n",
    "checking values\n",
    "google['lagged'].tail()"
   ]
  },
  {
   "cell_type": "code",
   "execution_count": null,
   "metadata": {},
   "outputs": [],
   "source": [
    "#gives percentage\n",
    "google['change']=google['price'].div.(google['shifted'])"
   ]
  },
  {
   "cell_type": "code",
   "execution_count": null,
   "metadata": {},
   "outputs": [],
   "source": [
    "## Excmple code:\n",
    "\n",
    "\n",
    "# Import data here\n",
    "google = pd.read_csv('google.csv', parse_dates=['Date'], index_col = 'Date')\n",
    "\n",
    "# Set data frequency to business daily\n",
    "google = google.asfreq('B')\n",
    "google.head()\n",
    "# Create 'lagged' and 'shifted'\n",
    "google['lagged'] = google.Close.shift(periods= -90)\n",
    "google['shifted'] = google.Close.shift(periods= 90)\n",
    "\n",
    "# Plot the google price series\n",
    "###.  plt.plot(google['lagged'],google['shifted']) ------ NOt working-- check\n",
    "google.plot()\n",
    "plt.show()"
   ]
  },
  {
   "cell_type": "markdown",
   "metadata": {},
   "source": [
    "##\n",
    "Create the columns 'daily_return', 'monthly_return', and 'annual_return' that contain the pct_change() of 'Close' for 1, 30 and 360 calendar days, respectively, and multiply each by 100.\n",
    "Plot the result using subplots=True."
   ]
  },
  {
   "cell_type": "code",
   "execution_count": null,
   "metadata": {},
   "outputs": [],
   "source": [
    "# Create daily_return\n",
    "google['daily_return'] = google.Close.pct_change(periods=1).mul(100)\n",
    "\n",
    "# Create monthly_return\n",
    "google['monthly_return'] = google.Close.pct_change(periods=30).mul(100)\n",
    "\n",
    "# Create annual_return\n",
    "google['annual_return'] = google.Close.pct_change(periods=365).mul(100)\n",
    "\n",
    "# Plot the result\n",
    "google.plot(subplots=True)\n",
    "plt.show()\n"
   ]
  },
  {
   "cell_type": "markdown",
   "metadata": {},
   "source": [
    "## Basic Time Series Metrics & Resampling"
   ]
  },
  {
   "cell_type": "code",
   "execution_count": 65,
   "metadata": {},
   "outputs": [
    {
     "ename": "NameError",
     "evalue": "name 'google' is not defined",
     "output_type": "error",
     "traceback": [
      "\u001b[0;31m---------------------------------------------------------------------------\u001b[0m",
      "\u001b[0;31mNameError\u001b[0m                                 Traceback (most recent call last)",
      "\u001b[0;32m<ipython-input-65-4736eebe0eb3>\u001b[0m in \u001b[0;36m<module>\u001b[0;34m\u001b[0m\n\u001b[1;32m      1\u001b[0m \u001b[0;31m# Accessing first value using i loc\u001b[0m\u001b[0;34m\u001b[0m\u001b[0;34m\u001b[0m\u001b[0;34m\u001b[0m\u001b[0m\n\u001b[0;32m----> 2\u001b[0;31m \u001b[0mfirst_price\u001b[0m \u001b[0;34m=\u001b[0m \u001b[0mgoogle\u001b[0m\u001b[0;34m.\u001b[0m\u001b[0mprice\u001b[0m\u001b[0;34m.\u001b[0m\u001b[0miloc\u001b[0m\u001b[0;34m[\u001b[0m\u001b[0;36m0\u001b[0m\u001b[0;34m]\u001b[0m\u001b[0;34m\u001b[0m\u001b[0;34m\u001b[0m\u001b[0m\n\u001b[0m\u001b[1;32m      3\u001b[0m \u001b[0;34m\u001b[0m\u001b[0m\n\u001b[1;32m      4\u001b[0m \u001b[0;31m# OR using loc\u001b[0m\u001b[0;34m\u001b[0m\u001b[0;34m\u001b[0m\u001b[0;34m\u001b[0m\u001b[0m\n\u001b[1;32m      5\u001b[0m \u001b[0;34m\u001b[0m\u001b[0m\n",
      "\u001b[0;31mNameError\u001b[0m: name 'google' is not defined"
     ]
    }
   ],
   "source": [
    "# Accessing first value using i loc\n",
    "first_price = google.price.iloc[0]\n",
    "\n",
    "# OR using loc\n",
    "\n",
    "first_price = google.loc('2014-01-01', 'price')"
   ]
  },
  {
   "cell_type": "code",
   "execution_count": null,
   "metadata": {},
   "outputs": [],
   "source": [
    "#  To compare diffeerent series with differet levels :  Normalizing time series by dividing the series with\n",
    "#first value, this will create all relative values\n",
    "\n",
    "normalised =google.price.div(first_price).mul(100)"
   ]
  }
 ],
 "metadata": {
  "kernelspec": {
   "display_name": "Python 3",
   "language": "python",
   "name": "python3"
  },
  "language_info": {
   "codemirror_mode": {
    "name": "ipython",
    "version": 3
   },
   "file_extension": ".py",
   "mimetype": "text/x-python",
   "name": "python",
   "nbconvert_exporter": "python",
   "pygments_lexer": "ipython3",
   "version": "3.6.8"
  }
 },
 "nbformat": 4,
 "nbformat_minor": 2
}
